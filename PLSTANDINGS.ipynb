{
  "nbformat": 4,
  "nbformat_minor": 0,
  "metadata": {
    "colab": {
      "provenance": [],
      "authorship_tag": "ABX9TyMNJlxVjusP67ajyQ8p1mHo",
      "include_colab_link": true
    },
    "kernelspec": {
      "name": "python3",
      "display_name": "Python 3"
    },
    "language_info": {
      "name": "python"
    }
  },
  "cells": [
    {
      "cell_type": "markdown",
      "metadata": {
        "id": "view-in-github",
        "colab_type": "text"
      },
      "source": [
        "<a href=\"https://colab.research.google.com/github/Kwasi-Dankwa/PL_DE_PROJECT/blob/main/PLSTANDINGS.ipynb\" target=\"_parent\"><img src=\"https://colab.research.google.com/assets/colab-badge.svg\" alt=\"Open In Colab\"/></a>"
      ]
    },
    {
      "cell_type": "markdown",
      "source": [
        "# PL STANDINGS (single season)"
      ],
      "metadata": {
        "id": "ybN8W1omyaFj"
      }
    },
    {
      "cell_type": "markdown",
      "source": [
        "This for testing purposes"
      ],
      "metadata": {
        "id": "V9JxWMzeyknQ"
      }
    },
    {
      "cell_type": "code",
      "source": [
        "%pip install mysql-connector-python"
      ],
      "metadata": {
        "colab": {
          "base_uri": "https://localhost:8080/"
        },
        "id": "D1T02KKgzRxk",
        "outputId": "fdee6a94-8aee-4e82-c9e4-eca24fc68e9d"
      },
      "execution_count": null,
      "outputs": [
        {
          "output_type": "stream",
          "name": "stdout",
          "text": [
            "Requirement already satisfied: mysql-connector-python in /usr/local/lib/python3.12/dist-packages (9.4.0)\n"
          ]
        }
      ]
    },
    {
      "cell_type": "code",
      "execution_count": null,
      "metadata": {
        "id": "Xe6hZjvIyYCv"
      },
      "outputs": [],
      "source": [
        "# import libraries\n",
        "import os\n",
        "import json\n",
        "import requests\n",
        "import pandas as pd\n",
        "from mysql import connector\n",
        "from dotenv import load_dotenv"
      ]
    }
  ]
}