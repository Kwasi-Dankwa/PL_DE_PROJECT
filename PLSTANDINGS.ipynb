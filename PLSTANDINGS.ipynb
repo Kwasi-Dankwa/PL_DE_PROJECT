{
  "cells": [
    {
      "cell_type": "markdown",
      "metadata": {
        "colab_type": "text",
        "id": "view-in-github"
      },
      "source": [
        "<a href=\"https://colab.research.google.com/github/Kwasi-Dankwa/PL_DE_PROJECT/blob/main/PLSTANDINGS.ipynb\" target=\"_parent\"><img src=\"https://colab.research.google.com/assets/colab-badge.svg\" alt=\"Open In Colab\"/></a>"
      ]
    },
    {
      "cell_type": "markdown",
      "metadata": {
        "id": "ybN8W1omyaFj"
      },
      "source": [
        "# PL STANDINGS (single season)"
      ]
    },
    {
      "cell_type": "markdown",
      "metadata": {
        "id": "V9JxWMzeyknQ"
      },
      "source": [
        "This for testing purposes"
      ]
    },
    {
      "cell_type": "code",
      "execution_count": 1,
      "metadata": {
        "colab": {
          "base_uri": "https://localhost:8080/"
        },
        "id": "D1T02KKgzRxk",
        "outputId": "fdee6a94-8aee-4e82-c9e4-eca24fc68e9d"
      },
      "outputs": [
        {
          "name": "stdout",
          "output_type": "stream",
          "text": [
            "Collecting mysql-connector-python\n",
            "  Downloading mysql_connector_python-9.4.0-cp313-cp313-win_amd64.whl.metadata (7.7 kB)\n",
            "Downloading mysql_connector_python-9.4.0-cp313-cp313-win_amd64.whl (16.4 MB)\n",
            "   ---------------------------------------- 0.0/16.4 MB ? eta -:--:--\n",
            "   -------- ------------------------------- 3.4/16.4 MB 16.8 MB/s eta 0:00:01\n",
            "   ----------------- ---------------------- 7.3/16.4 MB 17.4 MB/s eta 0:00:01\n",
            "   ---------------------------- ----------- 11.5/16.4 MB 18.5 MB/s eta 0:00:01\n",
            "   ------------------------------------- -- 15.5/16.4 MB 18.6 MB/s eta 0:00:01\n",
            "   ---------------------------------------- 16.4/16.4 MB 15.2 MB/s  0:00:01\n",
            "Installing collected packages: mysql-connector-python\n",
            "Successfully installed mysql-connector-python-9.4.0\n",
            "Note: you may need to restart the kernel to use updated packages.\n"
          ]
        }
      ],
      "source": [
        "%pip install mysql-connector-python"
      ]
    },
    {
      "cell_type": "code",
      "execution_count": 1,
      "metadata": {},
      "outputs": [
        {
          "name": "stdout",
          "output_type": "stream",
          "text": [
            "Requirement already satisfied: pandas in c:\\users\\kdank\\appdata\\local\\programs\\python\\python313\\lib\\site-packages (2.3.2)\n",
            "Requirement already satisfied: numpy>=1.26.0 in c:\\users\\kdank\\appdata\\local\\programs\\python\\python313\\lib\\site-packages (from pandas) (2.3.2)\n",
            "Requirement already satisfied: python-dateutil>=2.8.2 in c:\\users\\kdank\\appdata\\local\\programs\\python\\python313\\lib\\site-packages (from pandas) (2.9.0.post0)\n",
            "Requirement already satisfied: pytz>=2020.1 in c:\\users\\kdank\\appdata\\local\\programs\\python\\python313\\lib\\site-packages (from pandas) (2025.2)\n",
            "Requirement already satisfied: tzdata>=2022.7 in c:\\users\\kdank\\appdata\\local\\programs\\python\\python313\\lib\\site-packages (from pandas) (2025.2)\n",
            "Requirement already satisfied: six>=1.5 in c:\\users\\kdank\\appdata\\local\\programs\\python\\python313\\lib\\site-packages (from python-dateutil>=2.8.2->pandas) (1.17.0)\n",
            "Note: you may need to restart the kernel to use updated packages.\n"
          ]
        }
      ],
      "source": [
        "%pip install pandas"
      ]
    },
    {
      "cell_type": "code",
      "execution_count": 3,
      "metadata": {},
      "outputs": [
        {
          "name": "stdout",
          "output_type": "stream",
          "text": [
            "Collecting python-dotenv\n",
            "  Downloading python_dotenv-1.1.1-py3-none-any.whl.metadata (24 kB)\n",
            "Downloading python_dotenv-1.1.1-py3-none-any.whl (20 kB)\n",
            "Installing collected packages: python-dotenv\n",
            "Successfully installed python-dotenv-1.1.1\n",
            "Note: you may need to restart the kernel to use updated packages.\n"
          ]
        }
      ],
      "source": [
        "%pip install python-dotenv"
      ]
    },
    {
      "cell_type": "code",
      "execution_count": 4,
      "metadata": {
        "id": "Xe6hZjvIyYCv"
      },
      "outputs": [],
      "source": [
        "# import libraries\n",
        "\n",
        "import os\n",
        "import json\n",
        "import requests\n",
        "import pandas as pd \n",
        "from mysql import connector\n",
        "from dotenv import load_dotenv"
      ]
    },
    {
      "cell_type": "code",
      "execution_count": 5,
      "metadata": {},
      "outputs": [
        {
          "data": {
            "text/plain": [
              "True"
            ]
          },
          "execution_count": 5,
          "metadata": {},
          "output_type": "execute_result"
        }
      ],
      "source": [
        "load_dotenv()"
      ]
    },
    {
      "cell_type": "code",
      "execution_count": 9,
      "metadata": {},
      "outputs": [],
      "source": [
        "API_KEY = os.getenv(\"API_KEY\")\n",
        "API_HOST = os.getenv(\"API_HOST\")\n",
        "SEASON = 2024\n",
        "LEAGUE_ID = 39"
      ]
    },
    {
      "cell_type": "markdown",
      "metadata": {},
      "source": [
        "GRABBING URL"
      ]
    },
    {
      "cell_type": "code",
      "execution_count": 10,
      "metadata": {},
      "outputs": [],
      "source": [
        "url = \"https://api-football-v1.p.rapidapi.com/v3/fixtures/headtohead\"\n",
        "headers = {\n",
        "\t\"x-rapidapi-key\": API_KEY,\n",
        "\t\"x-rapidapi-host\": API_HOST\n",
        "}\n",
        "querystring = {\"league\":LEAGUE_ID,\n",
        "               \"season\":SEASON}"
      ]
    },
    {
      "cell_type": "markdown",
      "metadata": {},
      "source": [
        "# ------------------EXTRACTION PHASE -----------------"
      ]
    },
    {
      "cell_type": "code",
      "execution_count": 13,
      "metadata": {},
      "outputs": [],
      "source": [
        "response = requests.get(url, headers=headers, params=querystring) "
      ]
    },
    {
      "cell_type": "code",
      "execution_count": 14,
      "metadata": {},
      "outputs": [],
      "source": [
        "# load response to another variable\n",
        "payload = response.json() # get block of data in json to return python dictionary"
      ]
    },
    {
      "cell_type": "code",
      "execution_count": 15,
      "metadata": {},
      "outputs": [
        {
          "data": {
            "text/plain": [
              "{'message': 'You are not subscribed to this API.'}"
            ]
          },
          "execution_count": 15,
          "metadata": {},
          "output_type": "execute_result"
        }
      ],
      "source": [
        "payload"
      ]
    }
  ],
  "metadata": {
    "colab": {
      "authorship_tag": "ABX9TyMNJlxVjusP67ajyQ8p1mHo",
      "include_colab_link": true,
      "provenance": []
    },
    "kernelspec": {
      "display_name": "Python 3",
      "name": "python3"
    },
    "language_info": {
      "codemirror_mode": {
        "name": "ipython",
        "version": 3
      },
      "file_extension": ".py",
      "mimetype": "text/x-python",
      "name": "python",
      "nbconvert_exporter": "python",
      "pygments_lexer": "ipython3",
      "version": "3.13.7"
    }
  },
  "nbformat": 4,
  "nbformat_minor": 0
}
